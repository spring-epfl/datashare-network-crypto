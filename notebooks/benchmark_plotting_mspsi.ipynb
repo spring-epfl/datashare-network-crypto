{
 "cells": [
  {
   "cell_type": "code",
   "execution_count": null,
   "metadata": {
    "tags": [
     "parametres"
    ]
   },
   "outputs": [],
   "source": [
    "%load_ext autoreload\n",
    "%autoreload 2"
   ]
  },
  {
   "cell_type": "code",
   "execution_count": null,
   "metadata": {},
   "outputs": [],
   "source": [
    "import copy\n",
    "import json\n",
    "import math\n",
    "import statistics\n",
    "import numpy as np\n",
    "import matplotlib.pyplot as plt"
   ]
  },
  {
   "cell_type": "code",
   "execution_count": null,
   "metadata": {},
   "outputs": [],
   "source": [
    "plt.rc('text', usetex=True)\n",
    "plt.rc('font', family='serif', size=18)\n",
    "plt.rc('figure', figsize=(5.5,5))\n",
    "plt.rc('text.latex', preamble=r'\\usepackage{mathptmx}')"
   ]
  },
  {
   "cell_type": "code",
   "execution_count": null,
   "metadata": {},
   "outputs": [],
   "source": [
    "with open('../benchmarks/benchmark-mspsi-2019051218051557677155.json') as content:\n",
    "    data = json.load(content)"
   ]
  },
  {
   "cell_type": "code",
   "execution_count": null,
   "metadata": {},
   "outputs": [],
   "source": [
    "def compute_stats(data):\n",
    "    fields = ['publish', 'query', 'reply', 'cardinality']\n",
    "    params = ['n_document_published', 'n_kwd_per_doc', 'n_kwd_per_query']\n",
    "    measures = ['time', 'length']\n",
    "    output = {}\n",
    "    \n",
    "    for field in fields:\n",
    "        entries = []\n",
    "\n",
    "        for entry_in in data[field]:\n",
    "            entry = {}\n",
    "            for param in params:\n",
    "                entry[param] = entry_in[param]\n",
    "            for measure in measures:\n",
    "                values = entry_in[measure + 's']\n",
    "                if len(values) > 0:\n",
    "                    mean = statistics.mean(values)\n",
    "                    sem = statistics.stdev(values) / math.sqrt(len(values))\n",
    "                    entry[measure] = {'mean':mean, 'sem':sem}\n",
    "            entries.append(entry)\n",
    "        output[field] = entries\n",
    "        \n",
    "    return output\n",
    "\n",
    "\n",
    "def filter_entries(entries, variable, value):\n",
    "    output = []\n",
    "    for entry in entries:\n",
    "        if entry[variable] == value:\n",
    "            output.append(entry)\n",
    "    return output\n",
    "\n",
    "\n",
    "def get_plot_data(entries, variable, measure, const_term=0):\n",
    "    means = []\n",
    "    sems = []\n",
    "    xvalues = []\n",
    "    \n",
    "    entries_s = sorted(entries, key=lambda x: x[variable])\n",
    "    \n",
    "    for entry in entries_s:\n",
    "        xvalues.append(entry[variable])\n",
    "        means.append(entry[measure]['mean'] + const_term)\n",
    "        sems.append(entry[measure]['sem'])\n",
    "    return (xvalues, means, sems)"
   ]
  },
  {
   "cell_type": "code",
   "execution_count": null,
   "metadata": {},
   "outputs": [],
   "source": [
    "def get_data_by_measure(field, measure, const_term=0):\n",
    "    return get_plot_data(filter_entries(filter_entries(stats[field], 'n_kwd_per_doc', 100), 'n_kwd_per_query', 10), 'n_document_published', measure, const_term)\n",
    "def get_data_by_measure_publish(field, measure, const_term=0):\n",
    "    return get_plot_data(filter_entries(stats[field], 'n_kwd_per_doc', 100), 'n_document_published', measure, const_term)"
   ]
  },
  {
   "cell_type": "code",
   "execution_count": null,
   "metadata": {},
   "outputs": [],
   "source": [
    "stats = compute_stats(data)\n",
    "\n",
    "data_publish_time = get_data_by_measure_publish('publish', 'time')\n",
    "data_publish_length = get_data_by_measure_publish('publish', 'length')\n",
    "\n",
    "# Query contains 360 bytes for signature, we estimate and include 1 ms for obtaining, 1 ms for signing\n",
    "data_query_time = get_data_by_measure('query', 'time', 0.002)\n",
    "data_query_length = get_data_by_measure('query', 'length', 360)\n",
    "\n",
    "# Reply contains 16 extra bytes to identify the querier, we estimate and include 1 ms for signature verification\n",
    "data_reply_time = get_data_by_measure('reply', 'time', 0.001)\n",
    "data_reply_length = get_data_by_measure('reply', 'length', 16)\n",
    "\n",
    "data_card_time = get_data_by_measure('cardinality', 'time')"
   ]
  },
  {
   "cell_type": "code",
   "execution_count": null,
   "metadata": {},
   "outputs": [],
   "source": [
    "fig, ax = plt.subplots()\n",
    "\n",
    "#plt.title('Querying a single journalist')\n",
    "\n",
    "x, y, yerr = data_query_time\n",
    "ax.errorbar(x, y, yerr=yerr, label=\"Query\", color='blue', fmt='o-')\n",
    "x, y, yerr = data_reply_time\n",
    "ax.errorbar(x, y, yerr=yerr, label=\"Reply\", color='red', fmt='v-')\n",
    "x, y, yerr = data_card_time\n",
    "ax.errorbar(x, y, yerr=yerr, label=\"Process reply\", color='green', fmt='^-')\n",
    "\n",
    "ax.set_yscale('log')\n",
    "ax.set_ylabel('Time (s)')\n",
    "ax.legend(loc=(0.02, 0.57))\n",
    "\n",
    "ax2 = ax.twinx()\n",
    "\n",
    "x, y, yerr = data_query_length\n",
    "ax2.errorbar(x, y, yerr=yerr, label=\"Query size\", color='orange', fmt='s:')\n",
    "x, y, yerr = data_reply_length\n",
    "ax2.errorbar(x, y, yerr=yerr, label=\"Reply size\", color='black', fmt='p:')\n",
    "\n",
    "ax2.set_ylim(bottom=0, top=700)\n",
    "ax2.set_ylabel('Data size (bytes)')\n",
    "ax2.legend(loc=(0.52, 0.29), labelspacing=0.25)\n",
    "\n",
    "plt.xscale('log')\n",
    "ax.set_xlabel('\\# Documents')\n",
    "\n",
    "plt.savefig(\"single-journalist.pdf\", bbox_inches='tight', pad_inches=0.01)\n",
    "plt.show()"
   ]
  },
  {
   "cell_type": "code",
   "execution_count": null,
   "metadata": {},
   "outputs": [],
   "source": [
    "selector = lambda x: x[\"n_kwd_per_doc\"] == 100 and x[\"n_document_published\"] == 1000\n",
    "def get_time_measurement(field):\n",
    "    return statistics.mean(list(filter(selector, data[field]))[0][\"times\"])\n",
    "def get_size_measurement(field):\n",
    "    return statistics.mean(list(filter(selector, data[field]))[0][\"lengths\"])\n",
    "\n",
    "# Query contains 360 bytes for signature, we estimate and include 1 ms for obtaining, 1 ms for signing\n",
    "query_time = get_time_measurement(\"query\") + 0.002\n",
    "query_size = get_size_measurement(\"query\") + 360\n",
    "\n",
    "# Reply contains 16 extra bytes to identify the querier\n",
    "response_size = get_size_measurement(\"reply\") + 16\n",
    "\n",
    "process_time = get_time_measurement(\"cardinality\")"
   ]
  },
  {
   "cell_type": "code",
   "execution_count": null,
   "metadata": {
    "scrolled": true
   },
   "outputs": [],
   "source": [
    "fig, ax = plt.subplots()\n",
    "\n",
    "#plt.title('Querying all journalists')\n",
    "\n",
    "x = np.logspace(1, 4, num = 12)\n",
    "\n",
    "y_query_time = query_time * np.ones(x.shape)\n",
    "ax.errorbar(x, y_query_time, label=\"Query\", color='blue', fmt='o-')\n",
    "y_process_time = process_time * x\n",
    "ax.errorbar(x, y_process_time, label=\"Process replies\", color='green', fmt='^-')\n",
    "\n",
    "ax.set_yscale('log')\n",
    "ax.set_ylabel('Time (s)')\n",
    "ax.legend(loc=2)\n",
    "\n",
    "ax2 = ax.twinx()\n",
    "\n",
    "y_query_size = query_size * np.ones(x.shape)\n",
    "ax2.errorbar(x, y_query_size, label=\"Query size\", color='orange', fmt='s:')\n",
    "\n",
    "y_responses_size = response_size * x\n",
    "ax2.errorbar(x, y_responses_size, label=\"Replies size (sum)\", color='black', fmt='p:')\n",
    "\n",
    "ax2.set_yscale('log')\n",
    "ax2.set_ylabel('Data size (bytes)')\n",
    "ax2.set_ylim((10e1, 10e7))\n",
    "ax2.legend(loc=(0.34,0.17))\n",
    "\n",
    "plt.xscale('log')\n",
    "ax.set_xlabel('\\# Journalists')\n",
    "\n",
    "plt.savefig(\"all-journalist.pdf\", bbox_inches='tight', pad_inches=0.01)\n",
    "plt.show()"
   ]
  },
  {
   "cell_type": "code",
   "execution_count": null,
   "metadata": {},
   "outputs": [],
   "source": [
    "# we estimate and include 1 ms for signature verification\n",
    "response_time = get_time_measurement(\"reply\") + 0.001\n",
    "\n",
    "# Reply contains 16 extra bytes to identify the querier\n",
    "response_size = get_size_measurement(\"reply\") + 16"
   ]
  },
  {
   "cell_type": "code",
   "execution_count": null,
   "metadata": {},
   "outputs": [],
   "source": [
    "fig, ax = plt.subplots()\n",
    "\n",
    "#plt.title('Answering all queries')\n",
    "\n",
    "x = np.logspace(1, 4, num = 12)\n",
    "\n",
    "y_reply_time = response_time * x\n",
    "ax.errorbar(x, y_reply_time, label=\"Replies to queries\", color='red', fmt='v-')\n",
    "\n",
    "ax.set_yscale('log')\n",
    "ax.set_ylabel('Time (s)')\n",
    "ax.legend(loc=2)\n",
    "\n",
    "ax2 = ax.twinx()\n",
    "\n",
    "y_query_size = query_size * x\n",
    "ax2.errorbar(x, y_query_size, label=\"Queries incoming\", color='orange', fmt='s:')\n",
    "y_response_size = response_size * x\n",
    "ax2.errorbar(x, y_response_size, label=\"Replies outgoing\", color='black', fmt='p:')\n",
    "\n",
    "ax2.set_yscale('log')\n",
    "ax2.set_ylabel('Data size (bytes)')\n",
    "ax2.legend(loc=4)\n",
    "ax2.set_ylim((10e2, 10e7))\n",
    "\n",
    "plt.xscale('log')\n",
    "ax.set_xlabel('\\# Queries / day')\n",
    "\n",
    "plt.savefig(\"all-queries.pdf\", bbox_inches='tight', pad_inches=0.01)\n",
    "plt.show()"
   ]
  }
 ],
 "metadata": {
  "kernelspec": {
   "display_name": "Python 3.7.3 64-bit ('venv': venv)",
   "language": "python",
   "name": "python37364bitvenvvenv43cabf836b6247e7858340dd995a7a46"
  },
  "language_info": {
   "codemirror_mode": {
    "name": "ipython",
    "version": 3
   },
   "file_extension": ".py",
   "mimetype": "text/x-python",
   "name": "python",
   "nbconvert_exporter": "python",
   "pygments_lexer": "ipython3",
   "version": "3.7.3-final"
  }
 },
 "nbformat": 4,
 "nbformat_minor": 4
}